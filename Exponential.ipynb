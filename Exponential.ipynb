{
 "cells": [
  {
   "cell_type": "code",
   "execution_count": 1,
   "id": "9e0c3cc0-2d33-4331-8c94-a661ffe2955d",
   "metadata": {},
   "outputs": [],
   "source": [
    "import yfinance  as yf\n",
    "import datetime as dt\n",
    "import numpy as np\n",
    "import pandas as pd"
   ]
  },
  {
   "cell_type": "code",
   "execution_count": 2,
   "id": "c596f256-c620-48c3-b349-81b743a913bc",
   "metadata": {},
   "outputs": [],
   "source": [
    "start=dt.datetime(2022,7,1)\n",
    "end=dt.datetime(2023,7,28)\n",
    "symbol='SBIN.NS'\n"
   ]
  },
  {
   "cell_type": "code",
   "execution_count": 3,
   "id": "c1f78a93-eeb9-45d0-8076-d500c3c5439e",
   "metadata": {},
   "outputs": [
    {
     "name": "stderr",
     "output_type": "stream",
     "text": [
      "[*********************100%%**********************]  1 of 1 completed\n"
     ]
    }
   ],
   "source": [
    "stk_data = yf.download(symbol, start=start, end=end)"
   ]
  },
  {
   "cell_type": "code",
   "execution_count": 4,
   "id": "ed3487a6-db4f-4e10-9895-97f965534c23",
   "metadata": {},
   "outputs": [
    {
     "data": {
      "text/html": [
       "<div>\n",
       "<style scoped>\n",
       "    .dataframe tbody tr th:only-of-type {\n",
       "        vertical-align: middle;\n",
       "    }\n",
       "\n",
       "    .dataframe tbody tr th {\n",
       "        vertical-align: top;\n",
       "    }\n",
       "\n",
       "    .dataframe thead th {\n",
       "        text-align: right;\n",
       "    }\n",
       "</style>\n",
       "<table border=\"1\" class=\"dataframe\">\n",
       "  <thead>\n",
       "    <tr style=\"text-align: right;\">\n",
       "      <th></th>\n",
       "      <th>Open</th>\n",
       "      <th>High</th>\n",
       "      <th>Low</th>\n",
       "      <th>Close</th>\n",
       "      <th>Adj Close</th>\n",
       "      <th>Volume</th>\n",
       "    </tr>\n",
       "    <tr>\n",
       "      <th>Date</th>\n",
       "      <th></th>\n",
       "      <th></th>\n",
       "      <th></th>\n",
       "      <th></th>\n",
       "      <th></th>\n",
       "      <th></th>\n",
       "    </tr>\n",
       "  </thead>\n",
       "  <tbody>\n",
       "    <tr>\n",
       "      <th>2022-07-01</th>\n",
       "      <td>463.350006</td>\n",
       "      <td>468.799988</td>\n",
       "      <td>460.549988</td>\n",
       "      <td>466.850006</td>\n",
       "      <td>457.950867</td>\n",
       "      <td>9405495</td>\n",
       "    </tr>\n",
       "    <tr>\n",
       "      <th>2022-07-04</th>\n",
       "      <td>466.850006</td>\n",
       "      <td>474.149994</td>\n",
       "      <td>466.850006</td>\n",
       "      <td>473.450012</td>\n",
       "      <td>464.425049</td>\n",
       "      <td>9186358</td>\n",
       "    </tr>\n",
       "    <tr>\n",
       "      <th>2022-07-05</th>\n",
       "      <td>475.149994</td>\n",
       "      <td>480.000000</td>\n",
       "      <td>471.000000</td>\n",
       "      <td>472.149994</td>\n",
       "      <td>463.149811</td>\n",
       "      <td>12003244</td>\n",
       "    </tr>\n",
       "    <tr>\n",
       "      <th>2022-07-06</th>\n",
       "      <td>475.149994</td>\n",
       "      <td>481.000000</td>\n",
       "      <td>473.899994</td>\n",
       "      <td>479.950012</td>\n",
       "      <td>470.801147</td>\n",
       "      <td>12059857</td>\n",
       "    </tr>\n",
       "    <tr>\n",
       "      <th>2022-07-07</th>\n",
       "      <td>484.000000</td>\n",
       "      <td>488.250000</td>\n",
       "      <td>481.600006</td>\n",
       "      <td>486.750000</td>\n",
       "      <td>477.471527</td>\n",
       "      <td>11497832</td>\n",
       "    </tr>\n",
       "    <tr>\n",
       "      <th>...</th>\n",
       "      <td>...</td>\n",
       "      <td>...</td>\n",
       "      <td>...</td>\n",
       "      <td>...</td>\n",
       "      <td>...</td>\n",
       "      <td>...</td>\n",
       "    </tr>\n",
       "    <tr>\n",
       "      <th>2023-07-21</th>\n",
       "      <td>610.000000</td>\n",
       "      <td>619.500000</td>\n",
       "      <td>609.000000</td>\n",
       "      <td>615.099976</td>\n",
       "      <td>615.099976</td>\n",
       "      <td>21040281</td>\n",
       "    </tr>\n",
       "    <tr>\n",
       "      <th>2023-07-24</th>\n",
       "      <td>615.049988</td>\n",
       "      <td>621.900024</td>\n",
       "      <td>614.299988</td>\n",
       "      <td>617.650024</td>\n",
       "      <td>617.650024</td>\n",
       "      <td>11756364</td>\n",
       "    </tr>\n",
       "    <tr>\n",
       "      <th>2023-07-25</th>\n",
       "      <td>621.799988</td>\n",
       "      <td>621.799988</td>\n",
       "      <td>604.200012</td>\n",
       "      <td>609.599976</td>\n",
       "      <td>609.599976</td>\n",
       "      <td>18503305</td>\n",
       "    </tr>\n",
       "    <tr>\n",
       "      <th>2023-07-26</th>\n",
       "      <td>612.000000</td>\n",
       "      <td>616.349976</td>\n",
       "      <td>609.150024</td>\n",
       "      <td>615.150024</td>\n",
       "      <td>615.150024</td>\n",
       "      <td>9999125</td>\n",
       "    </tr>\n",
       "    <tr>\n",
       "      <th>2023-07-27</th>\n",
       "      <td>616.400024</td>\n",
       "      <td>621.250000</td>\n",
       "      <td>613.099976</td>\n",
       "      <td>616.549988</td>\n",
       "      <td>616.549988</td>\n",
       "      <td>17444742</td>\n",
       "    </tr>\n",
       "  </tbody>\n",
       "</table>\n",
       "<p>266 rows × 6 columns</p>\n",
       "</div>"
      ],
      "text/plain": [
       "                  Open        High         Low       Close   Adj Close  \\\n",
       "Date                                                                     \n",
       "2022-07-01  463.350006  468.799988  460.549988  466.850006  457.950867   \n",
       "2022-07-04  466.850006  474.149994  466.850006  473.450012  464.425049   \n",
       "2022-07-05  475.149994  480.000000  471.000000  472.149994  463.149811   \n",
       "2022-07-06  475.149994  481.000000  473.899994  479.950012  470.801147   \n",
       "2022-07-07  484.000000  488.250000  481.600006  486.750000  477.471527   \n",
       "...                ...         ...         ...         ...         ...   \n",
       "2023-07-21  610.000000  619.500000  609.000000  615.099976  615.099976   \n",
       "2023-07-24  615.049988  621.900024  614.299988  617.650024  617.650024   \n",
       "2023-07-25  621.799988  621.799988  604.200012  609.599976  609.599976   \n",
       "2023-07-26  612.000000  616.349976  609.150024  615.150024  615.150024   \n",
       "2023-07-27  616.400024  621.250000  613.099976  616.549988  616.549988   \n",
       "\n",
       "              Volume  \n",
       "Date                  \n",
       "2022-07-01   9405495  \n",
       "2022-07-04   9186358  \n",
       "2022-07-05  12003244  \n",
       "2022-07-06  12059857  \n",
       "2022-07-07  11497832  \n",
       "...              ...  \n",
       "2023-07-21  21040281  \n",
       "2023-07-24  11756364  \n",
       "2023-07-25  18503305  \n",
       "2023-07-26   9999125  \n",
       "2023-07-27  17444742  \n",
       "\n",
       "[266 rows x 6 columns]"
      ]
     },
     "execution_count": 4,
     "metadata": {},
     "output_type": "execute_result"
    }
   ],
   "source": [
    "stk_data"
   ]
  },
  {
   "cell_type": "code",
   "execution_count": 5,
   "id": "95aecae3-42b7-4c80-aa49-9d1dd2b9af6e",
   "metadata": {},
   "outputs": [],
   "source": [
    "stk_data=stk_data[['Open','High','Low','Close']]"
   ]
  },
  {
   "cell_type": "code",
   "execution_count": 6,
   "id": "ac3e9971-4756-49e0-ba48-607c58ce4e68",
   "metadata": {},
   "outputs": [
    {
     "data": {
      "text/html": [
       "<div>\n",
       "<style scoped>\n",
       "    .dataframe tbody tr th:only-of-type {\n",
       "        vertical-align: middle;\n",
       "    }\n",
       "\n",
       "    .dataframe tbody tr th {\n",
       "        vertical-align: top;\n",
       "    }\n",
       "\n",
       "    .dataframe thead th {\n",
       "        text-align: right;\n",
       "    }\n",
       "</style>\n",
       "<table border=\"1\" class=\"dataframe\">\n",
       "  <thead>\n",
       "    <tr style=\"text-align: right;\">\n",
       "      <th></th>\n",
       "      <th>Open</th>\n",
       "      <th>High</th>\n",
       "      <th>Low</th>\n",
       "      <th>Close</th>\n",
       "    </tr>\n",
       "    <tr>\n",
       "      <th>Date</th>\n",
       "      <th></th>\n",
       "      <th></th>\n",
       "      <th></th>\n",
       "      <th></th>\n",
       "    </tr>\n",
       "  </thead>\n",
       "  <tbody>\n",
       "    <tr>\n",
       "      <th>2022-07-01</th>\n",
       "      <td>463.350006</td>\n",
       "      <td>468.799988</td>\n",
       "      <td>460.549988</td>\n",
       "      <td>466.850006</td>\n",
       "    </tr>\n",
       "    <tr>\n",
       "      <th>2022-07-04</th>\n",
       "      <td>466.850006</td>\n",
       "      <td>474.149994</td>\n",
       "      <td>466.850006</td>\n",
       "      <td>473.450012</td>\n",
       "    </tr>\n",
       "    <tr>\n",
       "      <th>2022-07-05</th>\n",
       "      <td>475.149994</td>\n",
       "      <td>480.000000</td>\n",
       "      <td>471.000000</td>\n",
       "      <td>472.149994</td>\n",
       "    </tr>\n",
       "    <tr>\n",
       "      <th>2022-07-06</th>\n",
       "      <td>475.149994</td>\n",
       "      <td>481.000000</td>\n",
       "      <td>473.899994</td>\n",
       "      <td>479.950012</td>\n",
       "    </tr>\n",
       "    <tr>\n",
       "      <th>2022-07-07</th>\n",
       "      <td>484.000000</td>\n",
       "      <td>488.250000</td>\n",
       "      <td>481.600006</td>\n",
       "      <td>486.750000</td>\n",
       "    </tr>\n",
       "    <tr>\n",
       "      <th>...</th>\n",
       "      <td>...</td>\n",
       "      <td>...</td>\n",
       "      <td>...</td>\n",
       "      <td>...</td>\n",
       "    </tr>\n",
       "    <tr>\n",
       "      <th>2023-07-21</th>\n",
       "      <td>610.000000</td>\n",
       "      <td>619.500000</td>\n",
       "      <td>609.000000</td>\n",
       "      <td>615.099976</td>\n",
       "    </tr>\n",
       "    <tr>\n",
       "      <th>2023-07-24</th>\n",
       "      <td>615.049988</td>\n",
       "      <td>621.900024</td>\n",
       "      <td>614.299988</td>\n",
       "      <td>617.650024</td>\n",
       "    </tr>\n",
       "    <tr>\n",
       "      <th>2023-07-25</th>\n",
       "      <td>621.799988</td>\n",
       "      <td>621.799988</td>\n",
       "      <td>604.200012</td>\n",
       "      <td>609.599976</td>\n",
       "    </tr>\n",
       "    <tr>\n",
       "      <th>2023-07-26</th>\n",
       "      <td>612.000000</td>\n",
       "      <td>616.349976</td>\n",
       "      <td>609.150024</td>\n",
       "      <td>615.150024</td>\n",
       "    </tr>\n",
       "    <tr>\n",
       "      <th>2023-07-27</th>\n",
       "      <td>616.400024</td>\n",
       "      <td>621.250000</td>\n",
       "      <td>613.099976</td>\n",
       "      <td>616.549988</td>\n",
       "    </tr>\n",
       "  </tbody>\n",
       "</table>\n",
       "<p>266 rows × 4 columns</p>\n",
       "</div>"
      ],
      "text/plain": [
       "                  Open        High         Low       Close\n",
       "Date                                                      \n",
       "2022-07-01  463.350006  468.799988  460.549988  466.850006\n",
       "2022-07-04  466.850006  474.149994  466.850006  473.450012\n",
       "2022-07-05  475.149994  480.000000  471.000000  472.149994\n",
       "2022-07-06  475.149994  481.000000  473.899994  479.950012\n",
       "2022-07-07  484.000000  488.250000  481.600006  486.750000\n",
       "...                ...         ...         ...         ...\n",
       "2023-07-21  610.000000  619.500000  609.000000  615.099976\n",
       "2023-07-24  615.049988  621.900024  614.299988  617.650024\n",
       "2023-07-25  621.799988  621.799988  604.200012  609.599976\n",
       "2023-07-26  612.000000  616.349976  609.150024  615.150024\n",
       "2023-07-27  616.400024  621.250000  613.099976  616.549988\n",
       "\n",
       "[266 rows x 4 columns]"
      ]
     },
     "execution_count": 6,
     "metadata": {},
     "output_type": "execute_result"
    }
   ],
   "source": [
    "stk_data"
   ]
  },
  {
   "cell_type": "code",
   "execution_count": 7,
   "id": "b6a6d0d5-4232-4fbe-956f-bb35e80df262",
   "metadata": {},
   "outputs": [],
   "source": [
    "column='Open'"
   ]
  },
  {
   "cell_type": "code",
   "execution_count": 8,
   "id": "9bbc691e-db83-4c55-b400-74ad6e8d07d7",
   "metadata": {},
   "outputs": [
    {
     "name": "stdout",
     "output_type": "stream",
     "text": [
      "Len: (266, 1)\n"
     ]
    }
   ],
   "source": [
    "\n",
    "from sklearn.preprocessing import MinMaxScaler\n",
    "Ms = MinMaxScaler()\n",
    "data1= Ms.fit_transform(stk_data[[column]])\n",
    "print(\"Len:\",data1.shape)\n"
   ]
  },
  {
   "cell_type": "code",
   "execution_count": 9,
   "id": "0a4b3a0b-bfc3-4fea-88f1-c4e705af41aa",
   "metadata": {},
   "outputs": [],
   "source": [
    "training_size=round(len(data1)*0.80)"
   ]
  },
  {
   "cell_type": "code",
   "execution_count": 10,
   "id": "c810251f-ce80-40f4-b081-d535560680c0",
   "metadata": {},
   "outputs": [
    {
     "name": "stdout",
     "output_type": "stream",
     "text": [
      "213\n"
     ]
    }
   ],
   "source": [
    "print(training_size)"
   ]
  },
  {
   "cell_type": "code",
   "execution_count": 11,
   "id": "3a119ff3-bf03-4b64-a990-f3d25a7a9657",
   "metadata": {},
   "outputs": [],
   "source": [
    "X_train=data1[:training_size]\n",
    "X_test=data1[training_size:]"
   ]
  },
  {
   "cell_type": "code",
   "execution_count": 12,
   "id": "e2ff2c01-183d-4b73-b026-2eb38c14f3ee",
   "metadata": {
    "scrolled": true
   },
   "outputs": [
    {
     "name": "stdout",
     "output_type": "stream",
     "text": [
      "X_train: (213, 1)\n",
      "X_test: (53, 1)\n"
     ]
    }
   ],
   "source": [
    "print(\"X_train:\",X_train.shape)\n",
    "print(\"X_test:\",X_test.shape)"
   ]
  },
  {
   "cell_type": "code",
   "execution_count": 13,
   "id": "fe7c5a82-701c-434a-a361-20973e868f42",
   "metadata": {},
   "outputs": [],
   "source": [
    "y_train=data1[:training_size]\n",
    "y_test=data1[training_size:]"
   ]
  },
  {
   "cell_type": "code",
   "execution_count": 14,
   "id": "faada57c-0085-412f-8371-627c785d1c4e",
   "metadata": {},
   "outputs": [
    {
     "data": {
      "text/plain": [
       "array([[0.        ],\n",
       "       [0.0215783 ],\n",
       "       [0.07274962],\n",
       "       [0.07274962],\n",
       "       [0.12731194],\n",
       "       [0.15813808],\n",
       "       [0.13347717],\n",
       "       [0.13347717],\n",
       "       [0.15043155],\n",
       "       [0.14334157],\n",
       "       [0.11837228],\n",
       "       [0.13070274],\n",
       "       [0.15197285],\n",
       "       [0.23212083],\n",
       "       [0.28637477],\n",
       "       [0.308878  ],\n",
       "       [0.30856981],\n",
       "       [0.33508022],\n",
       "       [0.32028352],\n",
       "       [0.43064127],\n",
       "       [0.44204679],\n",
       "       [0.40505542],\n",
       "       [0.42262655],\n",
       "       [0.48427884],\n",
       "       [0.49506799],\n",
       "       [0.44512941],\n",
       "       [0.37392109],\n",
       "       [0.3588162 ],\n",
       "       [0.34926017],\n",
       "       [0.38440205],\n",
       "       [0.43125764],\n",
       "       [0.4038223 ],\n",
       "       [0.39149184],\n",
       "       [0.42324292],\n",
       "       [0.34309495],\n",
       "       [0.27681874],\n",
       "       [0.34309495],\n",
       "       [0.36128245],\n",
       "       [0.37268797],\n",
       "       [0.29562261],\n",
       "       [0.33816284],\n",
       "       [0.36313194],\n",
       "       [0.45406906],\n",
       "       [0.45406906],\n",
       "       [0.46023429],\n",
       "       [0.43803962],\n",
       "       [0.44790384],\n",
       "       [0.53205936],\n",
       "       [0.56442681],\n",
       "       [0.59586933],\n",
       "       [0.53421704],\n",
       "       [0.67324287],\n",
       "       [0.65197276],\n",
       "       [0.60018506],\n",
       "       [0.70653526],\n",
       "       [0.68834776],\n",
       "       [0.63748462],\n",
       "       [0.62546235],\n",
       "       [0.508323  ],\n",
       "       [0.50061647],\n",
       "       [0.42879178],\n",
       "       [0.40474723],\n",
       "       [0.37392109],\n",
       "       [0.39611576],\n",
       "       [0.42940815],\n",
       "       [0.43927236],\n",
       "       [0.44482122],\n",
       "       [0.38440205],\n",
       "       [0.41553638],\n",
       "       [0.41091246],\n",
       "       [0.42940815],\n",
       "       [0.41214558],\n",
       "       [0.38871779],\n",
       "       [0.51633772],\n",
       "       [0.61436501],\n",
       "       [0.5465475 ],\n",
       "       [0.57891495],\n",
       "       [0.63902593],\n",
       "       [0.67293469],\n",
       "       [0.74352663],\n",
       "       [0.71886572],\n",
       "       [0.68803957],\n",
       "       [0.69667067],\n",
       "       [0.69389662],\n",
       "       [0.65135639],\n",
       "       [0.75616528],\n",
       "       [0.92262645],\n",
       "       [0.97194828],\n",
       "       [0.92324283],\n",
       "       [0.94882868],\n",
       "       [0.86683121],\n",
       "       [0.8073366 ],\n",
       "       [0.84217029],\n",
       "       [0.83692962],\n",
       "       [0.84864371],\n",
       "       [0.85542531],\n",
       "       [0.83107296],\n",
       "       [0.85203451],\n",
       "       [0.90258946],\n",
       "       [0.90752157],\n",
       "       [0.87700361],\n",
       "       [0.88625145],\n",
       "       [0.89488292],\n",
       "       [0.89087537],\n",
       "       [0.8887177 ],\n",
       "       [0.89488292],\n",
       "       [0.9334156 ],\n",
       "       [0.90937106],\n",
       "       [0.90258946],\n",
       "       [0.93125792],\n",
       "       [0.93372379],\n",
       "       [0.92570907],\n",
       "       [0.95653521],\n",
       "       [1.        ],\n",
       "       [0.91646122],\n",
       "       [0.86713939],\n",
       "       [0.86097417],\n",
       "       [0.87885348],\n",
       "       [0.82398279],\n",
       "       [0.78082619],\n",
       "       [0.68218253],\n",
       "       [0.84494472],\n",
       "       [0.84802734],\n",
       "       [0.84247848],\n",
       "       [0.93649822],\n",
       "       [0.93464873],\n",
       "       [0.9318743 ],\n",
       "       [0.91553629],\n",
       "       [0.88563508],\n",
       "       [0.88810132],\n",
       "       [0.87330462],\n",
       "       [0.89457474],\n",
       "       [0.82059199],\n",
       "       [0.82953165],\n",
       "       [0.82953165],\n",
       "       [0.86097417],\n",
       "       [0.86097417],\n",
       "       [0.81720119],\n",
       "       [0.78699142],\n",
       "       [0.80425399],\n",
       "       [0.83323064],\n",
       "       [0.86405678],\n",
       "       [0.81689263],\n",
       "       [0.64519116],\n",
       "       [0.44790384],\n",
       "       [0.50339089],\n",
       "       [0.6045008 ],\n",
       "       [0.3504933 ],\n",
       "       [0.44790384],\n",
       "       [0.58847098],\n",
       "       [0.52188658],\n",
       "       [0.53421704],\n",
       "       [0.5465475 ],\n",
       "       [0.51263874],\n",
       "       [0.55887795],\n",
       "       [0.47225656],\n",
       "       [0.47256475],\n",
       "       [0.51479642],\n",
       "       [0.46331691],\n",
       "       [0.42324292],\n",
       "       [0.39303315],\n",
       "       [0.3538841 ],\n",
       "       [0.3304563 ],\n",
       "       [0.37515421],\n",
       "       [0.35604178],\n",
       "       [0.39395808],\n",
       "       [0.36929717],\n",
       "       [0.44759565],\n",
       "       [0.48489521],\n",
       "       [0.6260791 ],\n",
       "       [0.59586933],\n",
       "       [0.62515416],\n",
       "       [0.5533291 ],\n",
       "       [0.51572135],\n",
       "       [0.39642433],\n",
       "       [0.40967934],\n",
       "       [0.33939596],\n",
       "       [0.40258955],\n",
       "       [0.38995053],\n",
       "       [0.36159063],\n",
       "       [0.36282375],\n",
       "       [0.34556119],\n",
       "       [0.31535142],\n",
       "       [0.2691122 ],\n",
       "       [0.29654754],\n",
       "       [0.28144266],\n",
       "       [0.35326772],\n",
       "       [0.37854501],\n",
       "       [0.39241678],\n",
       "       [0.37392109],\n",
       "       [0.40628854],\n",
       "       [0.41615276],\n",
       "       [0.43064127],\n",
       "       [0.40659673],\n",
       "       [0.398582  ],\n",
       "       [0.50554857],\n",
       "       [0.49722567],\n",
       "       [0.4799631 ],\n",
       "       [0.50339089],\n",
       "       [0.49599254],\n",
       "       [0.56504318],\n",
       "       [0.60819978],\n",
       "       [0.62669547],\n",
       "       [0.64395804],\n",
       "       [0.7191739 ],\n",
       "       [0.66152916],\n",
       "       [0.65875474],\n",
       "       [0.72040702],\n",
       "       [0.70468577],\n",
       "       [0.75000005],\n",
       "       [0.68834776],\n",
       "       [0.67108519],\n",
       "       [0.68649827]])"
      ]
     },
     "execution_count": 14,
     "metadata": {},
     "output_type": "execute_result"
    }
   ],
   "source": [
    "X_train"
   ]
  },
  {
   "cell_type": "code",
   "execution_count": 15,
   "id": "0645ef5f-12a7-48d6-bec3-5407fcc53dd8",
   "metadata": {},
   "outputs": [],
   "source": [
    "from sklearn.metrics import mean_squared_error\n",
    "trends = ['add', 'add', 'add', 'add'] "
   ]
  },
  {
   "cell_type": "code",
   "execution_count": 16,
   "id": "cab66a3d-b651-4c4f-934e-4915fff3952c",
   "metadata": {},
   "outputs": [],
   "source": [
    "#from statsmodels.tsa.api import ExponentialSmoothing\n",
    "#from statsmodels.tsa.holtwinters import ExponentialSmoothing\n",
    "from statsmodels.tsa.statespace.exponential_smoothing import ExponentialSmoothing\n"
   ]
  },
  {
   "cell_type": "code",
   "execution_count": 17,
   "id": "a9bb7db9-b951-4d9a-a003-da38fba64dcd",
   "metadata": {},
   "outputs": [
    {
     "data": {
      "text/plain": [
       "53"
      ]
     },
     "execution_count": 17,
     "metadata": {},
     "output_type": "execute_result"
    }
   ],
   "source": [
    "model = ExponentialSmoothing(X_train,trend='add', seasonal=None)\n",
    "model_fit = model.fit()\n",
    "y_pred = model_fit.predict(start=len(X_train), end=len(data1)-1)\n",
    "len(y_pred)\n",
    "       "
   ]
  },
  {
   "cell_type": "code",
   "execution_count": 18,
   "id": "87510126-31fc-4bff-b1ba-f76c028c04cf",
   "metadata": {},
   "outputs": [],
   "source": [
    "from sklearn.metrics import mean_squared_error\n",
    "mse=mean_squared_error(y_test,y_pred,squared=False)"
   ]
  },
  {
   "cell_type": "code",
   "execution_count": 25,
   "id": "65c37b36-ef2e-4a2f-9c73-fa499d3d1b93",
   "metadata": {},
   "outputs": [
    {
     "data": {
      "text/plain": [
       "0.08072905235624069"
      ]
     },
     "execution_count": 25,
     "metadata": {},
     "output_type": "execute_result"
    }
   ],
   "source": [
    "mse"
   ]
  },
  {
   "cell_type": "code",
   "execution_count": 19,
   "id": "3c759b7b-fff6-4867-bfee-c827a4901252",
   "metadata": {},
   "outputs": [],
   "source": [
    "model_fit = model.fit()"
   ]
  },
  {
   "cell_type": "code",
   "execution_count": 20,
   "id": "7d48a99f-fd09-48f8-96ab-09eaf59bb73a",
   "metadata": {},
   "outputs": [],
   "source": [
    "forecast=model_fit.predict(len(data1), len(data1)+5)"
   ]
  },
  {
   "cell_type": "code",
   "execution_count": 21,
   "id": "95ee2046-1e01-48ed-bdd2-2a195b940093",
   "metadata": {},
   "outputs": [
    {
     "data": {
      "text/plain": [
       "array([0.86073273, 0.86396323, 0.86719373, 0.87042423, 0.87365474,\n",
       "       0.87688524])"
      ]
     },
     "execution_count": 21,
     "metadata": {},
     "output_type": "execute_result"
    }
   ],
   "source": [
    "forecast"
   ]
  },
  {
   "cell_type": "code",
   "execution_count": 22,
   "id": "a386236f-2650-40c0-b3dd-96246abb6cd3",
   "metadata": {},
   "outputs": [],
   "source": [
    "from stockFunctions import conversionSingle\n",
    "fTestNormTable=conversionSingle(forecast,[\"Closefore\"])\n",
    "forecast_stock_price_test_ori=Ms.inverse_transform(fTestNormTable)\n",
    "forecast_stock_price_test_oriF=conversionSingle(forecast_stock_price_test_ori,[\"Closefore\"])"
   ]
  },
  {
   "cell_type": "code",
   "execution_count": 23,
   "id": "c3983dd4-6bc2-4c1d-bc04-d90878ff6f32",
   "metadata": {},
   "outputs": [
    {
     "data": {
      "text/html": [
       "<div>\n",
       "<style scoped>\n",
       "    .dataframe tbody tr th:only-of-type {\n",
       "        vertical-align: middle;\n",
       "    }\n",
       "\n",
       "    .dataframe tbody tr th {\n",
       "        vertical-align: top;\n",
       "    }\n",
       "\n",
       "    .dataframe thead th {\n",
       "        text-align: right;\n",
       "    }\n",
       "</style>\n",
       "<table border=\"1\" class=\"dataframe\">\n",
       "  <thead>\n",
       "    <tr style=\"text-align: right;\">\n",
       "      <th></th>\n",
       "      <th>Closefore</th>\n",
       "    </tr>\n",
       "  </thead>\n",
       "  <tbody>\n",
       "    <tr>\n",
       "      <th>0</th>\n",
       "      <td>602.960839</td>\n",
       "    </tr>\n",
       "    <tr>\n",
       "      <th>1</th>\n",
       "      <td>603.484826</td>\n",
       "    </tr>\n",
       "    <tr>\n",
       "      <th>2</th>\n",
       "      <td>604.008814</td>\n",
       "    </tr>\n",
       "    <tr>\n",
       "      <th>3</th>\n",
       "      <td>604.532801</td>\n",
       "    </tr>\n",
       "    <tr>\n",
       "      <th>4</th>\n",
       "      <td>605.056788</td>\n",
       "    </tr>\n",
       "    <tr>\n",
       "      <th>5</th>\n",
       "      <td>605.580776</td>\n",
       "    </tr>\n",
       "  </tbody>\n",
       "</table>\n",
       "</div>"
      ],
      "text/plain": [
       "    Closefore\n",
       "0  602.960839\n",
       "1  603.484826\n",
       "2  604.008814\n",
       "3  604.532801\n",
       "4  605.056788\n",
       "5  605.580776"
      ]
     },
     "execution_count": 23,
     "metadata": {},
     "output_type": "execute_result"
    }
   ],
   "source": [
    "forecast_stock_price_test_oriF"
   ]
  },
  {
   "cell_type": "code",
   "execution_count": 24,
   "id": "441098ef-02ed-4d67-af52-14b79404e743",
   "metadata": {},
   "outputs": [
    {
     "data": {
      "image/png": "[encoded data removed]",
      "text/plain": [
       "<Figure size 1000x500 with 1 Axes>"
      ]
     },
     "metadata": {},
     "output_type": "display_data"
    }
   ],
   "source": [
    "from stockFunctions import graph\n",
    "graph(y_test,y_pred,\"Actual\",\"Predicted\",\"SBIN-Close-AR-Norm\",\"Days\",\"Prices\")"
   ]
  },
  {
   "cell_type": "code",
   "execution_count": null,
   "id": "2f543c4d-da53-4287-bf2b-477272180734",
   "metadata": {},
   "outputs": [],
   "source": []
  }
 ],
 "metadata": {
  "kernelspec": {
   "display_name": "Python 3 (ipykernel)",
   "language": "python",
   "name": "python3"
  },
  "language_info": {
   "codemirror_mode": {
    "name": "ipython",
    "version": 3
   },
   "file_extension": ".py",
   "mimetype": "text/x-python",
   "name": "python",
   "nbconvert_exporter": "python",
   "pygments_lexer": "ipython3",
   "version": "3.11.7"
  }
 },
 "nbformat": 4,
 "nbformat_minor": 5
}

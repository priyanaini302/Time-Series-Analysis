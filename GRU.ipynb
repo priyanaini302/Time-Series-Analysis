{
 "cells": [
  {
   "cell_type": "code",
   "execution_count": 1,
   "id": "5419d7dd-6ffe-46e8-9a52-0ed91f25b880",
   "metadata": {},
   "outputs": [
    {
     "name": "stdout",
     "output_type": "stream",
     "text": [
      "WARNING:tensorflow:From E:\\software installtalation paths\\anaconda\\envs\\time\\Lib\\site-packages\\keras\\src\\losses.py:2976: The name tf.losses.sparse_softmax_cross_entropy is deprecated. Please use tf.compat.v1.losses.sparse_softmax_cross_entropy instead.\n",
      "\n"
     ]
    }
   ],
   "source": [
    "import yfinance  as yf\n",
    "import datetime as dt\n",
    "from sklearn.preprocessing import MinMaxScaler\n",
    "from tensorflow.keras.models import Sequential\n",
    "from tensorflow.keras.layers import GRU, Dense\n",
    "import numpy as np\n",
    "import pandas as pd"
   ]
  },
  {
   "cell_type": "code",
   "execution_count": 2,
   "id": "2b2f651e-e09f-4010-8da1-52eaaebf0fb4",
   "metadata": {},
   "outputs": [],
   "source": [
    "start=dt.datetime(2022,7,1)\n",
    "end=dt.datetime(2023,7,28)\n",
    "symbol='SBIN.NS'"
   ]
  },
  {
   "cell_type": "code",
   "execution_count": 3,
   "id": "b7c80ac4-f378-488a-a93a-4a3a3ab497cf",
   "metadata": {},
   "outputs": [
    {
     "name": "stderr",
     "output_type": "stream",
     "text": [
      "[*********************100%%**********************]  1 of 1 completed\n"
     ]
    }
   ],
   "source": [
    "stk_data = yf.download(symbol, start=start, end=end)"
   ]
  },
  {
   "cell_type": "code",
   "execution_count": 4,
   "id": "a2fdfd48-9d9a-44af-97b9-90d199621409",
   "metadata": {},
   "outputs": [
    {
     "data": {
      "text/html": [
       "<div>\n",
       "<style scoped>\n",
       "    .dataframe tbody tr th:only-of-type {\n",
       "        vertical-align: middle;\n",
       "    }\n",
       "\n",
       "    .dataframe tbody tr th {\n",
       "        vertical-align: top;\n",
       "    }\n",
       "\n",
       "    .dataframe thead th {\n",
       "        text-align: right;\n",
       "    }\n",
       "</style>\n",
       "<table border=\"1\" class=\"dataframe\">\n",
       "  <thead>\n",
       "    <tr style=\"text-align: right;\">\n",
       "      <th></th>\n",
       "      <th>Open</th>\n",
       "      <th>High</th>\n",
       "      <th>Low</th>\n",
       "      <th>Close</th>\n",
       "      <th>Adj Close</th>\n",
       "      <th>Volume</th>\n",
       "    </tr>\n",
       "    <tr>\n",
       "      <th>Date</th>\n",
       "      <th></th>\n",
       "      <th></th>\n",
       "      <th></th>\n",
       "      <th></th>\n",
       "      <th></th>\n",
       "      <th></th>\n",
       "    </tr>\n",
       "  </thead>\n",
       "  <tbody>\n",
       "    <tr>\n",
       "      <th>2022-07-01</th>\n",
       "      <td>463.350006</td>\n",
       "      <td>468.799988</td>\n",
       "      <td>460.549988</td>\n",
       "      <td>466.850006</td>\n",
       "      <td>457.950867</td>\n",
       "      <td>9405495</td>\n",
       "    </tr>\n",
       "    <tr>\n",
       "      <th>2022-07-04</th>\n",
       "      <td>466.850006</td>\n",
       "      <td>474.149994</td>\n",
       "      <td>466.850006</td>\n",
       "      <td>473.450012</td>\n",
       "      <td>464.425049</td>\n",
       "      <td>9186358</td>\n",
       "    </tr>\n",
       "    <tr>\n",
       "      <th>2022-07-05</th>\n",
       "      <td>475.149994</td>\n",
       "      <td>480.000000</td>\n",
       "      <td>471.000000</td>\n",
       "      <td>472.149994</td>\n",
       "      <td>463.149811</td>\n",
       "      <td>12003244</td>\n",
       "    </tr>\n",
       "    <tr>\n",
       "      <th>2022-07-06</th>\n",
       "      <td>475.149994</td>\n",
       "      <td>481.000000</td>\n",
       "      <td>473.899994</td>\n",
       "      <td>479.950012</td>\n",
       "      <td>470.801147</td>\n",
       "      <td>12059857</td>\n",
       "    </tr>\n",
       "    <tr>\n",
       "      <th>2022-07-07</th>\n",
       "      <td>484.000000</td>\n",
       "      <td>488.250000</td>\n",
       "      <td>481.600006</td>\n",
       "      <td>486.750000</td>\n",
       "      <td>477.471527</td>\n",
       "      <td>11497832</td>\n",
       "    </tr>\n",
       "    <tr>\n",
       "      <th>...</th>\n",
       "      <td>...</td>\n",
       "      <td>...</td>\n",
       "      <td>...</td>\n",
       "      <td>...</td>\n",
       "      <td>...</td>\n",
       "      <td>...</td>\n",
       "    </tr>\n",
       "    <tr>\n",
       "      <th>2023-07-21</th>\n",
       "      <td>610.000000</td>\n",
       "      <td>619.500000</td>\n",
       "      <td>609.000000</td>\n",
       "      <td>615.099976</td>\n",
       "      <td>615.099976</td>\n",
       "      <td>21040281</td>\n",
       "    </tr>\n",
       "    <tr>\n",
       "      <th>2023-07-24</th>\n",
       "      <td>615.049988</td>\n",
       "      <td>621.900024</td>\n",
       "      <td>614.299988</td>\n",
       "      <td>617.650024</td>\n",
       "      <td>617.650024</td>\n",
       "      <td>11756364</td>\n",
       "    </tr>\n",
       "    <tr>\n",
       "      <th>2023-07-25</th>\n",
       "      <td>621.799988</td>\n",
       "      <td>621.799988</td>\n",
       "      <td>604.200012</td>\n",
       "      <td>609.599976</td>\n",
       "      <td>609.599976</td>\n",
       "      <td>18503305</td>\n",
       "    </tr>\n",
       "    <tr>\n",
       "      <th>2023-07-26</th>\n",
       "      <td>612.000000</td>\n",
       "      <td>616.349976</td>\n",
       "      <td>609.150024</td>\n",
       "      <td>615.150024</td>\n",
       "      <td>615.150024</td>\n",
       "      <td>9999125</td>\n",
       "    </tr>\n",
       "    <tr>\n",
       "      <th>2023-07-27</th>\n",
       "      <td>616.400024</td>\n",
       "      <td>621.250000</td>\n",
       "      <td>613.099976</td>\n",
       "      <td>616.549988</td>\n",
       "      <td>616.549988</td>\n",
       "      <td>17444742</td>\n",
       "    </tr>\n",
       "  </tbody>\n",
       "</table>\n",
       "<p>266 rows × 6 columns</p>\n",
       "</div>"
      ],
      "text/plain": [
       "                  Open        High         Low       Close   Adj Close  \\\n",
       "Date                                                                     \n",
       "2022-07-01  463.350006  468.799988  460.549988  466.850006  457.950867   \n",
       "2022-07-04  466.850006  474.149994  466.850006  473.450012  464.425049   \n",
       "2022-07-05  475.149994  480.000000  471.000000  472.149994  463.149811   \n",
       "2022-07-06  475.149994  481.000000  473.899994  479.950012  470.801147   \n",
       "2022-07-07  484.000000  488.250000  481.600006  486.750000  477.471527   \n",
       "...                ...         ...         ...         ...         ...   \n",
       "2023-07-21  610.000000  619.500000  609.000000  615.099976  615.099976   \n",
       "2023-07-24  615.049988  621.900024  614.299988  617.650024  617.650024   \n",
       "2023-07-25  621.799988  621.799988  604.200012  609.599976  609.599976   \n",
       "2023-07-26  612.000000  616.349976  609.150024  615.150024  615.150024   \n",
       "2023-07-27  616.400024  621.250000  613.099976  616.549988  616.549988   \n",
       "\n",
       "              Volume  \n",
       "Date                  \n",
       "2022-07-01   9405495  \n",
       "2022-07-04   9186358  \n",
       "2022-07-05  12003244  \n",
       "2022-07-06  12059857  \n",
       "2022-07-07  11497832  \n",
       "...              ...  \n",
       "2023-07-21  21040281  \n",
       "2023-07-24  11756364  \n",
       "2023-07-25  18503305  \n",
       "2023-07-26   9999125  \n",
       "2023-07-27  17444742  \n",
       "\n",
       "[266 rows x 6 columns]"
      ]
     },
     "execution_count": 4,
     "metadata": {},
     "output_type": "execute_result"
    }
   ],
   "source": [
    "stk_data"
   ]
  },
  {
   "cell_type": "code",
   "execution_count": 5,
   "id": "6731f8ee-e05e-4cd3-b345-9d21f829fb68",
   "metadata": {},
   "outputs": [],
   "source": [
    "stk_data=stk_data[['Open','High','Low','Close']]"
   ]
  },
  {
   "cell_type": "code",
   "execution_count": 6,
   "id": "df8797a6-76bb-407c-90c8-2fdc7e6e47e8",
   "metadata": {},
   "outputs": [
    {
     "data": {
      "text/html": [
       "<div>\n",
       "<style scoped>\n",
       "    .dataframe tbody tr th:only-of-type {\n",
       "        vertical-align: middle;\n",
       "    }\n",
       "\n",
       "    .dataframe tbody tr th {\n",
       "        vertical-align: top;\n",
       "    }\n",
       "\n",
       "    .dataframe thead th {\n",
       "        text-align: right;\n",
       "    }\n",
       "</style>\n",
       "<table border=\"1\" class=\"dataframe\">\n",
       "  <thead>\n",
       "    <tr style=\"text-align: right;\">\n",
       "      <th></th>\n",
       "      <th>Open</th>\n",
       "      <th>High</th>\n",
       "      <th>Low</th>\n",
       "      <th>Close</th>\n",
       "    </tr>\n",
       "    <tr>\n",
       "      <th>Date</th>\n",
       "      <th></th>\n",
       "      <th></th>\n",
       "      <th></th>\n",
       "      <th></th>\n",
       "    </tr>\n",
       "  </thead>\n",
       "  <tbody>\n",
       "    <tr>\n",
       "      <th>2022-07-01</th>\n",
       "      <td>463.350006</td>\n",
       "      <td>468.799988</td>\n",
       "      <td>460.549988</td>\n",
       "      <td>466.850006</td>\n",
       "    </tr>\n",
       "    <tr>\n",
       "      <th>2022-07-04</th>\n",
       "      <td>466.850006</td>\n",
       "      <td>474.149994</td>\n",
       "      <td>466.850006</td>\n",
       "      <td>473.450012</td>\n",
       "    </tr>\n",
       "    <tr>\n",
       "      <th>2022-07-05</th>\n",
       "      <td>475.149994</td>\n",
       "      <td>480.000000</td>\n",
       "      <td>471.000000</td>\n",
       "      <td>472.149994</td>\n",
       "    </tr>\n",
       "    <tr>\n",
       "      <th>2022-07-06</th>\n",
       "      <td>475.149994</td>\n",
       "      <td>481.000000</td>\n",
       "      <td>473.899994</td>\n",
       "      <td>479.950012</td>\n",
       "    </tr>\n",
       "    <tr>\n",
       "      <th>2022-07-07</th>\n",
       "      <td>484.000000</td>\n",
       "      <td>488.250000</td>\n",
       "      <td>481.600006</td>\n",
       "      <td>486.750000</td>\n",
       "    </tr>\n",
       "    <tr>\n",
       "      <th>...</th>\n",
       "      <td>...</td>\n",
       "      <td>...</td>\n",
       "      <td>...</td>\n",
       "      <td>...</td>\n",
       "    </tr>\n",
       "    <tr>\n",
       "      <th>2023-07-21</th>\n",
       "      <td>610.000000</td>\n",
       "      <td>619.500000</td>\n",
       "      <td>609.000000</td>\n",
       "      <td>615.099976</td>\n",
       "    </tr>\n",
       "    <tr>\n",
       "      <th>2023-07-24</th>\n",
       "      <td>615.049988</td>\n",
       "      <td>621.900024</td>\n",
       "      <td>614.299988</td>\n",
       "      <td>617.650024</td>\n",
       "    </tr>\n",
       "    <tr>\n",
       "      <th>2023-07-25</th>\n",
       "      <td>621.799988</td>\n",
       "      <td>621.799988</td>\n",
       "      <td>604.200012</td>\n",
       "      <td>609.599976</td>\n",
       "    </tr>\n",
       "    <tr>\n",
       "      <th>2023-07-26</th>\n",
       "      <td>612.000000</td>\n",
       "      <td>616.349976</td>\n",
       "      <td>609.150024</td>\n",
       "      <td>615.150024</td>\n",
       "    </tr>\n",
       "    <tr>\n",
       "      <th>2023-07-27</th>\n",
       "      <td>616.400024</td>\n",
       "      <td>621.250000</td>\n",
       "      <td>613.099976</td>\n",
       "      <td>616.549988</td>\n",
       "    </tr>\n",
       "  </tbody>\n",
       "</table>\n",
       "<p>266 rows × 4 columns</p>\n",
       "</div>"
      ],
      "text/plain": [
       "                  Open        High         Low       Close\n",
       "Date                                                      \n",
       "2022-07-01  463.350006  468.799988  460.549988  466.850006\n",
       "2022-07-04  466.850006  474.149994  466.850006  473.450012\n",
       "2022-07-05  475.149994  480.000000  471.000000  472.149994\n",
       "2022-07-06  475.149994  481.000000  473.899994  479.950012\n",
       "2022-07-07  484.000000  488.250000  481.600006  486.750000\n",
       "...                ...         ...         ...         ...\n",
       "2023-07-21  610.000000  619.500000  609.000000  615.099976\n",
       "2023-07-24  615.049988  621.900024  614.299988  617.650024\n",
       "2023-07-25  621.799988  621.799988  604.200012  609.599976\n",
       "2023-07-26  612.000000  616.349976  609.150024  615.150024\n",
       "2023-07-27  616.400024  621.250000  613.099976  616.549988\n",
       "\n",
       "[266 rows x 4 columns]"
      ]
     },
     "execution_count": 6,
     "metadata": {},
     "output_type": "execute_result"
    }
   ],
   "source": [
    "stk_data"
   ]
  },
  {
   "cell_type": "code",
   "execution_count": 7,
   "id": "d6ab17ee-09ca-4663-a8b2-a236c2e15910",
   "metadata": {},
   "outputs": [],
   "source": [
    "column='Open'"
   ]
  },
  {
   "cell_type": "code",
   "execution_count": 8,
   "id": "a76c03f9-726c-4887-81c3-dbba141fb258",
   "metadata": {},
   "outputs": [],
   "source": [
    "series =stk_data['Open'].values.reshape(-1, 1)"
   ]
  },
  {
   "cell_type": "code",
   "execution_count": 9,
   "id": "a26621c4-48af-4e01-8408-926817a2eca4",
   "metadata": {},
   "outputs": [],
   "source": [
    "scaler = MinMaxScaler()\n",
    "scaled_data = scaler.fit_transform(series)"
   ]
  },
  {
   "cell_type": "code",
   "execution_count": 10,
   "id": "d39dd787-0657-47fc-841d-2f3a85c07ec6",
   "metadata": {},
   "outputs": [],
   "source": [
    "def create_sequences(data, seq_length):\n",
    "    sequences = []\n",
    "    labels = []\n",
    "    for i in range(len(data) - seq_length):\n",
    "        seq = data[i:i + seq_length]\n",
    "        label = data[i + seq_length]\n",
    "        sequences.append(seq)\n",
    "        labels.append(label)\n",
    "    return np.array(sequences), np.array(labels)"
   ]
  },
  {
   "cell_type": "code",
   "execution_count": 11,
   "id": "631dcf7b-f79d-4013-a906-83b47f6529db",
   "metadata": {},
   "outputs": [],
   "source": [
    "sequence_length = 10"
   ]
  },
  {
   "cell_type": "code",
   "execution_count": 12,
   "id": "d9727bd6-7a92-4f48-8c5d-464c0529e1c2",
   "metadata": {},
   "outputs": [],
   "source": [
    "X, y = create_sequences(scaled_data, sequence_length)"
   ]
  },
  {
   "cell_type": "code",
   "execution_count": 13,
   "id": "8bebc8b3-8409-474e-9a73-d2d034a86214",
   "metadata": {},
   "outputs": [],
   "source": [
    "X = X.reshape((X.shape[0], X.shape[1], 1))"
   ]
  },
  {
   "cell_type": "code",
   "execution_count": 14,
   "id": "4780bc35-d5d3-4f07-b801-c8f1fe760ef3",
   "metadata": {},
   "outputs": [
    {
     "name": "stdout",
     "output_type": "stream",
     "text": [
      "WARNING:tensorflow:From E:\\software installtalation paths\\anaconda\\envs\\time\\Lib\\site-packages\\keras\\src\\backend.py:873: The name tf.get_default_graph is deprecated. Please use tf.compat.v1.get_default_graph instead.\n",
      "\n",
      "WARNING:tensorflow:From E:\\software installtalation paths\\anaconda\\envs\\time\\Lib\\site-packages\\keras\\src\\optimizers\\__init__.py:309: The name tf.train.Optimizer is deprecated. Please use tf.compat.v1.train.Optimizer instead.\n",
      "\n"
     ]
    }
   ],
   "source": [
    "model = Sequential()\n",
    "model.add(GRU(50, activation='relu', input_shape=(sequence_length, 1)))\n",
    "model.add(Dense(1))\n",
    "model.compile(optimizer='adam', loss='mse') \n"
   ]
  },
  {
   "cell_type": "code",
   "execution_count": 15,
   "id": "a5c10476-657d-4c2e-964d-1cb9a736021b",
   "metadata": {},
   "outputs": [
    {
     "name": "stdout",
     "output_type": "stream",
     "text": [
      "Epoch 1/50\n",
      "WARNING:tensorflow:From E:\\software installtalation paths\\anaconda\\envs\\time\\Lib\\site-packages\\keras\\src\\utils\\tf_utils.py:492: The name tf.ragged.RaggedTensorValue is deprecated. Please use tf.compat.v1.ragged.RaggedTensorValue instead.\n",
      "\n",
      "8/8 [==============================] - 2s 56ms/step - loss: 0.3252 - val_loss: 0.4022\n",
      "Epoch 2/50\n",
      "8/8 [==============================] - 0s 11ms/step - loss: 0.2261 - val_loss: 0.2863\n",
      "Epoch 3/50\n",
      "8/8 [==============================] - 0s 11ms/step - loss: 0.1526 - val_loss: 0.1886\n",
      "Epoch 4/50\n",
      "8/8 [==============================] - 0s 10ms/step - loss: 0.0933 - val_loss: 0.1101\n",
      "Epoch 5/50\n",
      "8/8 [==============================] - 0s 9ms/step - loss: 0.0447 - val_loss: 0.0417\n",
      "Epoch 6/50\n",
      "8/8 [==============================] - 0s 9ms/step - loss: 0.0146 - val_loss: 0.0065\n",
      "Epoch 7/50\n",
      "8/8 [==============================] - 0s 9ms/step - loss: 0.0143 - val_loss: 0.0042\n",
      "Epoch 8/50\n",
      "8/8 [==============================] - 0s 9ms/step - loss: 0.0121 - val_loss: 0.0093\n",
      "Epoch 9/50\n",
      "8/8 [==============================] - 0s 10ms/step - loss: 0.0102 - val_loss: 0.0139\n",
      "Epoch 10/50\n",
      "8/8 [==============================] - 0s 9ms/step - loss: 0.0090 - val_loss: 0.0083\n",
      "Epoch 11/50\n",
      "8/8 [==============================] - 0s 9ms/step - loss: 0.0076 - val_loss: 0.0055\n",
      "Epoch 12/50\n",
      "8/8 [==============================] - 0s 9ms/step - loss: 0.0071 - val_loss: 0.0067\n",
      "Epoch 13/50\n",
      "8/8 [==============================] - 0s 10ms/step - loss: 0.0064 - val_loss: 0.0052\n",
      "Epoch 14/50\n",
      "8/8 [==============================] - 0s 7ms/step - loss: 0.0058 - val_loss: 0.0056\n",
      "Epoch 15/50\n",
      "8/8 [==============================] - 0s 11ms/step - loss: 0.0054 - val_loss: 0.0046\n",
      "Epoch 16/50\n",
      "8/8 [==============================] - 0s 11ms/step - loss: 0.0051 - val_loss: 0.0035\n",
      "Epoch 17/50\n",
      "8/8 [==============================] - 0s 11ms/step - loss: 0.0050 - val_loss: 0.0048\n",
      "Epoch 18/50\n",
      "8/8 [==============================] - 0s 11ms/step - loss: 0.0047 - val_loss: 0.0031\n",
      "Epoch 19/50\n",
      "8/8 [==============================] - 0s 10ms/step - loss: 0.0047 - val_loss: 0.0041\n",
      "Epoch 20/50\n",
      "8/8 [==============================] - 0s 8ms/step - loss: 0.0046 - val_loss: 0.0036\n",
      "Epoch 21/50\n",
      "8/8 [==============================] - 0s 9ms/step - loss: 0.0046 - val_loss: 0.0032\n",
      "Epoch 22/50\n",
      "8/8 [==============================] - 0s 9ms/step - loss: 0.0046 - val_loss: 0.0033\n",
      "Epoch 23/50\n",
      "8/8 [==============================] - 0s 12ms/step - loss: 0.0044 - val_loss: 0.0030\n",
      "Epoch 24/50\n",
      "8/8 [==============================] - 0s 11ms/step - loss: 0.0043 - val_loss: 0.0032\n",
      "Epoch 25/50\n",
      "8/8 [==============================] - 0s 10ms/step - loss: 0.0043 - val_loss: 0.0035\n",
      "Epoch 26/50\n",
      "8/8 [==============================] - 0s 9ms/step - loss: 0.0042 - val_loss: 0.0035\n",
      "Epoch 27/50\n",
      "8/8 [==============================] - 0s 9ms/step - loss: 0.0041 - val_loss: 0.0029\n",
      "Epoch 28/50\n",
      "8/8 [==============================] - 0s 9ms/step - loss: 0.0040 - val_loss: 0.0033\n",
      "Epoch 29/50\n",
      "8/8 [==============================] - 0s 9ms/step - loss: 0.0040 - val_loss: 0.0027\n",
      "Epoch 30/50\n",
      "8/8 [==============================] - 0s 9ms/step - loss: 0.0040 - val_loss: 0.0028\n",
      "Epoch 31/50\n",
      "8/8 [==============================] - 0s 9ms/step - loss: 0.0039 - val_loss: 0.0030\n",
      "Epoch 32/50\n",
      "8/8 [==============================] - 0s 9ms/step - loss: 0.0039 - val_loss: 0.0031\n",
      "Epoch 33/50\n",
      "8/8 [==============================] - 0s 9ms/step - loss: 0.0041 - val_loss: 0.0028\n",
      "Epoch 34/50\n",
      "8/8 [==============================] - 0s 9ms/step - loss: 0.0039 - val_loss: 0.0028\n",
      "Epoch 35/50\n",
      "8/8 [==============================] - 0s 9ms/step - loss: 0.0038 - val_loss: 0.0026\n",
      "Epoch 36/50\n",
      "8/8 [==============================] - 0s 9ms/step - loss: 0.0038 - val_loss: 0.0031\n",
      "Epoch 37/50\n",
      "8/8 [==============================] - 0s 9ms/step - loss: 0.0039 - val_loss: 0.0029\n",
      "Epoch 38/50\n",
      "8/8 [==============================] - 0s 9ms/step - loss: 0.0038 - val_loss: 0.0024\n",
      "Epoch 39/50\n",
      "8/8 [==============================] - 0s 9ms/step - loss: 0.0037 - val_loss: 0.0027\n",
      "Epoch 40/50\n",
      "8/8 [==============================] - 0s 9ms/step - loss: 0.0037 - val_loss: 0.0024\n",
      "Epoch 41/50\n",
      "8/8 [==============================] - 0s 9ms/step - loss: 0.0039 - val_loss: 0.0029\n",
      "Epoch 42/50\n",
      "8/8 [==============================] - 0s 9ms/step - loss: 0.0037 - val_loss: 0.0021\n",
      "Epoch 43/50\n",
      "8/8 [==============================] - 0s 9ms/step - loss: 0.0036 - val_loss: 0.0025\n",
      "Epoch 44/50\n",
      "8/8 [==============================] - 0s 10ms/step - loss: 0.0036 - val_loss: 0.0026\n",
      "Epoch 45/50\n",
      "8/8 [==============================] - 0s 7ms/step - loss: 0.0036 - val_loss: 0.0027\n",
      "Epoch 46/50\n",
      "8/8 [==============================] - 0s 9ms/step - loss: 0.0036 - val_loss: 0.0027\n",
      "Epoch 47/50\n",
      "8/8 [==============================] - 0s 9ms/step - loss: 0.0036 - val_loss: 0.0023\n",
      "Epoch 48/50\n",
      "8/8 [==============================] - 0s 9ms/step - loss: 0.0036 - val_loss: 0.0025\n",
      "Epoch 49/50\n",
      "8/8 [==============================] - 0s 9ms/step - loss: 0.0035 - val_loss: 0.0023\n",
      "Epoch 50/50\n",
      "8/8 [==============================] - 0s 9ms/step - loss: 0.0035 - val_loss: 0.0023\n"
     ]
    },
    {
     "data": {
      "text/plain": [
       "<keras.src.callbacks.History at 0x17d7deda650>"
      ]
     },
     "execution_count": 15,
     "metadata": {},
     "output_type": "execute_result"
    }
   ],
   "source": [
    "model.fit(X, y, epochs=50, batch_size=32, validation_split=0.1)"
   ]
  },
  {
   "cell_type": "code",
   "execution_count": 16,
   "id": "336287cf-37ce-4501-b5a0-9f82034dd0c8",
   "metadata": {},
   "outputs": [],
   "source": [
    "test_data = scaled_data[-sequence_length:]  \n",
    "test_data = test_data.reshape((1, sequence_length, 1))"
   ]
  },
  {
   "cell_type": "code",
   "execution_count": 17,
   "id": "566659c4-554e-4b92-8059-48e27edc8aee",
   "metadata": {},
   "outputs": [
    {
     "name": "stdout",
     "output_type": "stream",
     "text": [
      "1/1 [==============================] - 0s 258ms/step\n"
     ]
    }
   ],
   "source": [
    "predicted_value = model.predict(test_data)\n",
    "predicted_value = scaler.inverse_transform(predicted_value)"
   ]
  },
  {
   "cell_type": "code",
   "execution_count": 18,
   "id": "b43eeeb5-74d8-4c20-b668-0dc127ff1303",
   "metadata": {},
   "outputs": [
    {
     "name": "stdout",
     "output_type": "stream",
     "text": [
      "Predicted Value: 613.95404\n"
     ]
    }
   ],
   "source": [
    "print(\"Predicted Value:\", predicted_value[0, 0])"
   ]
  },
  {
   "cell_type": "code",
   "execution_count": 19,
   "id": "fac5e6bc-ffe9-42e8-ac27-0edfc0448d8b",
   "metadata": {},
   "outputs": [
    {
     "name": "stdout",
     "output_type": "stream",
     "text": [
      "Actual Value: 616.4000244140625\n"
     ]
    }
   ],
   "source": [
    "actual_value = series[-1, 0]\n",
    "print(\"Actual Value:\", actual_value)"
   ]
  },
  {
   "cell_type": "code",
   "execution_count": 20,
   "id": "c62aa1b2-5084-4795-8ab4-177e4b1ec9c0",
   "metadata": {},
   "outputs": [],
   "source": [
    "actual_value_arrary=np.array([actual_value])"
   ]
  },
  {
   "cell_type": "code",
   "execution_count": 21,
   "id": "4213f5f8-e8c9-443f-aa02-b3bcedffa403",
   "metadata": {},
   "outputs": [],
   "source": [
    "predicted_value_array = np.array([predicted_value[0, 0]])"
   ]
  },
  {
   "cell_type": "code",
   "execution_count": 22,
   "id": "c97fc783-e21a-4268-8837-e1f9ea31e1cd",
   "metadata": {},
   "outputs": [
    {
     "name": "stdout",
     "output_type": "stream",
     "text": [
      "Mean Squared Error (MSE): 5.982837174087763\n"
     ]
    }
   ],
   "source": [
    "from sklearn.metrics import mean_squared_error\n",
    "mse = mean_squared_error(actual_value_arrary , predicted_value_array)\n",
    "print(\"Mean Squared Error (MSE):\", mse)"
   ]
  },
  {
   "cell_type": "code",
   "execution_count": null,
   "id": "f068e93a-fa93-4f2d-8fe1-34c4931b7f07",
   "metadata": {},
   "outputs": [],
   "source": []
  },
  {
   "cell_type": "code",
   "execution_count": null,
   "id": "93760c05-eca9-4ee7-9e8c-c34cfc734c46",
   "metadata": {},
   "outputs": [],
   "source": []
  }
 ],
 "metadata": {
  "kernelspec": {
   "display_name": "Python 3 (ipykernel)",
   "language": "python",
   "name": "python3"
  },
  "language_info": {
   "codemirror_mode": {
    "name": "ipython",
    "version": 3
   },
   "file_extension": ".py",
   "mimetype": "text/x-python",
   "name": "python",
   "nbconvert_exporter": "python",
   "pygments_lexer": "ipython3",
   "version": "3.11.7"
  }
 },
 "nbformat": 4,
 "nbformat_minor": 5
}

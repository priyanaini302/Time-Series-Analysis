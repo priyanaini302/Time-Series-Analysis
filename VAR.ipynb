{
 "cells": [
  {
   "cell_type": "code",
   "execution_count": null,
   "id": "c1c4eb62-3418-450f-9dfc-9d5a58d18fca",
   "metadata": {},
   "outputs": [],
   "source": [
    "#Loding libraries"
   ]
  },
  {
   "cell_type": "code",
   "execution_count": 2,
   "id": "1fdae7e8-d0ac-4aca-bcc3-a6ed78687a2d",
   "metadata": {},
   "outputs": [],
   "source": [
    "import yfinance  as yf\n",
    "import datetime as dt\n",
    "import datetime as dt\n",
    "import numpy as np\n",
    "import pandas as pd"
   ]
  },
  {
   "cell_type": "code",
   "execution_count": null,
   "id": "85a0ece6-2179-4d82-b344-53356cb1bd1a",
   "metadata": {},
   "outputs": [],
   "source": [
    "# give the date between when to be start,when to be end and write the whitch stock you want"
   ]
  },
  {
   "cell_type": "code",
   "execution_count": 3,
   "id": "1dc83941-e825-48a3-8122-0072eed4a3f0",
   "metadata": {},
   "outputs": [],
   "source": [
    "start=dt.datetime(2022,7,1)\n",
    "end=dt.datetime(2023,7,28)\n",
    "symbol='SBIN.NS'"
   ]
  },
  {
   "cell_type": "code",
   "execution_count": null,
   "id": "b719390e-6b8f-4335-81ff-db738956713d",
   "metadata": {},
   "outputs": [],
   "source": [
    "#loading  data"
   ]
  },
  {
   "cell_type": "code",
   "execution_count": 5,
   "id": "88ec3d1e-b611-41c0-8a95-b9e0d8ad3835",
   "metadata": {},
   "outputs": [
    {
     "name": "stderr",
     "output_type": "stream",
     "text": [
      "[*********************100%%**********************]  1 of 1 completed\n"
     ]
    }
   ],
   "source": [
    "stk_data = yf.download(symbol, start=start, end=end)"
   ]
  },
  {
   "cell_type": "code",
   "execution_count": null,
   "id": "1189af5b-55a5-4e74-b6fb-12d645a4aa30",
   "metadata": {},
   "outputs": [],
   "source": [
    "# choose which cloumns you want"
   ]
  },
  {
   "cell_type": "code",
   "execution_count": 19,
   "id": "6fa74b99-0128-4d7b-bb3a-1ba48ea95495",
   "metadata": {},
   "outputs": [],
   "source": [
    "stk_data=stk_data[[\"Open\",\"High\",\"Low\",\"Close\"]]"
   ]
  },
  {
   "cell_type": "code",
   "execution_count": null,
   "id": "2c7323d8-240f-4e56-bc0a-b65910d16488",
   "metadata": {},
   "outputs": [],
   "source": [
    "# preproceesing the data"
   ]
  },
  {
   "cell_type": "code",
   "execution_count": 20,
   "id": "8398e09d-bbc4-4c10-b9f2-8ce758c3450b",
   "metadata": {},
   "outputs": [
    {
     "name": "stdout",
     "output_type": "stream",
     "text": [
      "Len: (266, 4)\n"
     ]
    }
   ],
   "source": [
    "from sklearn.preprocessing import MinMaxScaler\n",
    "Ms = MinMaxScaler()\n",
    "data1= Ms.fit_transform(stk_data)\n",
    "print(\"Len:\",data1.shape)"
   ]
  },
  {
   "cell_type": "code",
   "execution_count": 21,
   "id": "d0407ed0-ba87-49b4-9f01-07cd5061e4bf",
   "metadata": {},
   "outputs": [],
   "source": [
    "data1=pd.DataFrame(data1,columns=[\"Open\",\"High\",\"Low\",\"Close\"])"
   ]
  },
  {
   "cell_type": "code",
   "execution_count": null,
   "id": "6e8a5f77-b151-4f9c-8762-c405069b164d",
   "metadata": {},
   "outputs": [],
   "source": [
    "# define training size"
   ]
  },
  {
   "cell_type": "code",
   "execution_count": 22,
   "id": "72686c76-7c39-44b1-9d77-6f10402f3808",
   "metadata": {},
   "outputs": [],
   "source": [
    "training_size=round(len(data1)*0.80)"
   ]
  },
  {
   "cell_type": "code",
   "execution_count": 23,
   "id": "69987272-03ae-4a6e-a4e3-f77c06aef564",
   "metadata": {},
   "outputs": [
    {
     "name": "stdout",
     "output_type": "stream",
     "text": [
      "213\n"
     ]
    }
   ],
   "source": [
    "print(training_size)"
   ]
  },
  {
   "cell_type": "code",
   "execution_count": null,
   "id": "81b154c9-f255-47be-8669-67e031c993f9",
   "metadata": {},
   "outputs": [],
   "source": [
    "#split input and output"
   ]
  },
  {
   "cell_type": "code",
   "execution_count": 24,
   "id": "14619d83-dbc8-4aa6-81f1-1805558cf973",
   "metadata": {},
   "outputs": [],
   "source": [
    "X_train=data1[:training_size]\n",
    "X_test=data1[training_size:]\n",
    "y_train=data1[:training_size]\n",
    "y_test=data1[training_size:]"
   ]
  },
  {
   "cell_type": "code",
   "execution_count": 25,
   "id": "074347d0-cce3-4016-99f1-5caf94c7e074",
   "metadata": {},
   "outputs": [
    {
     "name": "stdout",
     "output_type": "stream",
     "text": [
      "X_train length: (213, 4)\n",
      "X_test length: (53, 4)\n",
      "y_train length: (213, 4)\n",
      "y_test length: (53, 4)\n"
     ]
    }
   ],
   "source": [
    "print(\"X_train length:\",X_train.shape)\n",
    "print(\"X_test length:\",X_test.shape)\n",
    "print(\"y_train length:\",y_train.shape)\n",
    "print(\"y_test length:\",y_test.shape)"
   ]
  },
  {
   "cell_type": "code",
   "execution_count": 26,
   "id": "68cfbc19-6dfe-4d89-ab84-615377b1ae09",
   "metadata": {},
   "outputs": [],
   "source": [
    "listt=[\"Close\",\"High\",\"Open\",\"Low\"]"
   ]
  },
  {
   "cell_type": "code",
   "execution_count": 27,
   "id": "32350ea9-1082-4729-bd91-512f6a847d71",
   "metadata": {},
   "outputs": [],
   "source": [
    "datasetTwo=data1[listt]"
   ]
  },
  {
   "cell_type": "code",
   "execution_count": null,
   "id": "0456abaf-b20b-475f-8e8a-ff9575effbb1",
   "metadata": {},
   "outputs": [],
   "source": [
    "# give the  Number of observations to use for testing and split it"
   ]
  },
  {
   "cell_type": "code",
   "execution_count": 28,
   "id": "be0d4964-0c94-4a0c-a2c2-cab36e8aa7a5",
   "metadata": {},
   "outputs": [],
   "source": [
    "test_obs = 28\n",
    "train =datasetTwo[:-test_obs]\n",
    "test = datasetTwo[-test_obs:]\n",
    "from statsmodels.tsa.api import VAR"
   ]
  },
  {
   "cell_type": "code",
   "execution_count": null,
   "id": "782fce2c-4d61-4645-8188-a400f9c7c612",
   "metadata": {},
   "outputs": [],
   "source": [
    "# print aic and bic metrics for model selection lowest aic,bic values indicates best fitting model"
   ]
  },
  {
   "cell_type": "code",
   "execution_count": 29,
   "id": "98ac84db-e595-4773-9dc6-7a7d9a74477f",
   "metadata": {},
   "outputs": [
    {
     "name": "stdout",
     "output_type": "stream",
     "text": [
      "Order = 1\n",
      "AIC:  -29.567996965119015\n",
      "BIC:  -29.275333662069638\n",
      "\n",
      "Order = 2\n",
      "AIC:  -29.571031135744118\n",
      "BIC:  -29.042650012943604\n",
      "\n",
      "Order = 3\n",
      "AIC:  -29.602543294674675\n",
      "BIC:  -28.837017989417244\n",
      "\n",
      "Order = 4\n",
      "AIC:  -29.497354163233517\n",
      "BIC:  -28.493243753642393\n",
      "\n",
      "Order = 5\n",
      "AIC:  -29.401051596499467\n",
      "BIC:  -28.15690039435561\n",
      "\n",
      "Order = 6\n",
      "AIC:  -29.35711499343414\n",
      "BIC:  -27.871452333233147\n",
      "\n",
      "Order = 7\n",
      "AIC:  -29.268735967059524\n",
      "BIC:  -27.540075991213083\n",
      "\n",
      "Order = 8\n",
      "AIC:  -29.202251023526628\n",
      "BIC:  -27.22909246362288\n",
      "\n",
      "Order = 9\n",
      "AIC:  -29.126662467933333\n",
      "BIC:  -26.907488421968146\n",
      "\n",
      "Order = 10\n",
      "AIC:  -29.078537177305414\n",
      "BIC:  -26.611814882794324\n",
      "\n"
     ]
    }
   ],
   "source": [
    "for i in [1,2,3,4,5,6,7,8,9,10]:\n",
    "        model = VAR(train)\n",
    "        results = model.fit(i)\n",
    "        print('Order =', i)\n",
    "        print('AIC: ', results.aic)\n",
    "        print('BIC: ', results.bic)\n",
    "        print()"
   ]
  },
  {
   "cell_type": "code",
   "execution_count": null,
   "id": "f2089f05-b1a8-45a1-b766-67e6744fdbda",
   "metadata": {},
   "outputs": [],
   "source": [
    "# select_order method is used to automate the process of choosing the lag order based on the specified information criterion"
   ]
  },
  {
   "cell_type": "code",
   "execution_count": 30,
   "id": "565cfdfd-6a20-4fb0-9174-d1a56e21bb17",
   "metadata": {},
   "outputs": [],
   "source": [
    "x = model.select_order(maxlags=12)\n",
    "order=x.selected_orders[\"aic\"]\n",
    "result = model.fit(order)"
   ]
  },
  {
   "cell_type": "code",
   "execution_count": null,
   "id": "c1ba707e-4f94-4185-9bcd-b609193490a4",
   "metadata": {},
   "outputs": [],
   "source": [
    "# make prediction"
   ]
  },
  {
   "cell_type": "code",
   "execution_count": 31,
   "id": "00f33ffd-27bc-45a8-9dbc-c125a93161b3",
   "metadata": {},
   "outputs": [],
   "source": [
    "lagged_Values = train.values[-order:]\n",
    "pred = result.forecast(y=lagged_Values,steps=28) \n",
    "preds=pd.DataFrame(pred,columns=listt)\n",
    "preds.to_csv(\"varforecasted_{}.csv\".format(test_obs))"
   ]
  },
  {
   "cell_type": "code",
   "execution_count": null,
   "id": "ec0a36f7-6324-4c0c-9d66-a9894f8aca74",
   "metadata": {},
   "outputs": [],
   "source": [
    "#evaution metrics"
   ]
  },
  {
   "cell_type": "code",
   "execution_count": 32,
   "id": "f1b9a880-60a9-4551-aebc-dcb2e8a08682",
   "metadata": {},
   "outputs": [],
   "source": [
    "from sklearn.metrics import mean_squared_error\n",
    "rmse= round(mean_squared_error(test,pred,squared=False))\n",
    "from sklearn.metrics import mean_absolute_percentage_error\n",
    "mape=mean_absolute_percentage_error(test,pred)"
   ]
  },
  {
   "cell_type": "code",
   "execution_count": 34,
   "id": "03c72343-4f7e-484c-ad26-2f2170421859",
   "metadata": {},
   "outputs": [],
   "source": [
    "performance={\"Model\":[],\"RMSE\":[],\"MaPe\":[],\"Lag\":[],\"Test\":[]}\n",
    "performance[\"Model\"].append(listt)\n",
    "performance[\"RMSE\"].append(rmse)\n",
    "performance[\"MaPe\"].append(mape)\n",
    "performance[\"Lag\"].append(order)\n",
    "performance[\"Test\"].append(test_obs)\n",
    "perf=pd.DataFrame(performance)"
   ]
  },
  {
   "cell_type": "code",
   "execution_count": 35,
   "id": "a6b3171d-82f9-4e62-95cf-7320b5769b99",
   "metadata": {},
   "outputs": [
    {
     "data": {
      "text/html": [
       "<div>\n",
       "<style scoped>\n",
       "    .dataframe tbody tr th:only-of-type {\n",
       "        vertical-align: middle;\n",
       "    }\n",
       "\n",
       "    .dataframe tbody tr th {\n",
       "        vertical-align: top;\n",
       "    }\n",
       "\n",
       "    .dataframe thead th {\n",
       "        text-align: right;\n",
       "    }\n",
       "</style>\n",
       "<table border=\"1\" class=\"dataframe\">\n",
       "  <thead>\n",
       "    <tr style=\"text-align: right;\">\n",
       "      <th></th>\n",
       "      <th>Open</th>\n",
       "      <th>High</th>\n",
       "      <th>Low</th>\n",
       "      <th>Close</th>\n",
       "    </tr>\n",
       "  </thead>\n",
       "  <tbody>\n",
       "    <tr>\n",
       "      <th>0</th>\n",
       "      <td>0.000000</td>\n",
       "      <td>0.000000</td>\n",
       "      <td>0.000000</td>\n",
       "      <td>0.000000</td>\n",
       "    </tr>\n",
       "    <tr>\n",
       "      <th>1</th>\n",
       "      <td>0.021578</td>\n",
       "      <td>0.033282</td>\n",
       "      <td>0.040140</td>\n",
       "      <td>0.041601</td>\n",
       "    </tr>\n",
       "    <tr>\n",
       "      <th>2</th>\n",
       "      <td>0.072750</td>\n",
       "      <td>0.069673</td>\n",
       "      <td>0.066582</td>\n",
       "      <td>0.033407</td>\n",
       "    </tr>\n",
       "    <tr>\n",
       "      <th>3</th>\n",
       "      <td>0.072750</td>\n",
       "      <td>0.075894</td>\n",
       "      <td>0.085059</td>\n",
       "      <td>0.082572</td>\n",
       "    </tr>\n",
       "    <tr>\n",
       "      <th>4</th>\n",
       "      <td>0.127312</td>\n",
       "      <td>0.120995</td>\n",
       "      <td>0.134119</td>\n",
       "      <td>0.125433</td>\n",
       "    </tr>\n",
       "    <tr>\n",
       "      <th>...</th>\n",
       "      <td>...</td>\n",
       "      <td>...</td>\n",
       "      <td>...</td>\n",
       "      <td>...</td>\n",
       "    </tr>\n",
       "    <tr>\n",
       "      <th>261</th>\n",
       "      <td>0.904131</td>\n",
       "      <td>0.937481</td>\n",
       "      <td>0.945843</td>\n",
       "      <td>0.934447</td>\n",
       "    </tr>\n",
       "    <tr>\n",
       "      <th>262</th>\n",
       "      <td>0.935265</td>\n",
       "      <td>0.952411</td>\n",
       "      <td>0.979611</td>\n",
       "      <td>0.950520</td>\n",
       "    </tr>\n",
       "    <tr>\n",
       "      <th>263</th>\n",
       "      <td>0.976880</td>\n",
       "      <td>0.951788</td>\n",
       "      <td>0.915260</td>\n",
       "      <td>0.899779</td>\n",
       "    </tr>\n",
       "    <tr>\n",
       "      <th>264</th>\n",
       "      <td>0.916461</td>\n",
       "      <td>0.917885</td>\n",
       "      <td>0.946799</td>\n",
       "      <td>0.934762</td>\n",
       "    </tr>\n",
       "    <tr>\n",
       "      <th>265</th>\n",
       "      <td>0.943588</td>\n",
       "      <td>0.948367</td>\n",
       "      <td>0.971965</td>\n",
       "      <td>0.943586</td>\n",
       "    </tr>\n",
       "  </tbody>\n",
       "</table>\n",
       "<p>266 rows × 4 columns</p>\n",
       "</div>"
      ],
      "text/plain": [
       "         Open      High       Low     Close\n",
       "0    0.000000  0.000000  0.000000  0.000000\n",
       "1    0.021578  0.033282  0.040140  0.041601\n",
       "2    0.072750  0.069673  0.066582  0.033407\n",
       "3    0.072750  0.075894  0.085059  0.082572\n",
       "4    0.127312  0.120995  0.134119  0.125433\n",
       "..        ...       ...       ...       ...\n",
       "261  0.904131  0.937481  0.945843  0.934447\n",
       "262  0.935265  0.952411  0.979611  0.950520\n",
       "263  0.976880  0.951788  0.915260  0.899779\n",
       "264  0.916461  0.917885  0.946799  0.934762\n",
       "265  0.943588  0.948367  0.971965  0.943586\n",
       "\n",
       "[266 rows x 4 columns]"
      ]
     },
     "execution_count": 35,
     "metadata": {},
     "output_type": "execute_result"
    }
   ],
   "source": [
    "data1"
   ]
  },
  {
   "cell_type": "code",
   "execution_count": 36,
   "id": "769bb98c-28a0-4b2d-b67c-a6fadea263e0",
   "metadata": {},
   "outputs": [
    {
     "data": {
      "text/html": [
       "<div>\n",
       "<style scoped>\n",
       "    .dataframe tbody tr th:only-of-type {\n",
       "        vertical-align: middle;\n",
       "    }\n",
       "\n",
       "    .dataframe tbody tr th {\n",
       "        vertical-align: top;\n",
       "    }\n",
       "\n",
       "    .dataframe thead th {\n",
       "        text-align: right;\n",
       "    }\n",
       "</style>\n",
       "<table border=\"1\" class=\"dataframe\">\n",
       "  <thead>\n",
       "    <tr style=\"text-align: right;\">\n",
       "      <th></th>\n",
       "      <th>Model</th>\n",
       "      <th>RMSE</th>\n",
       "      <th>MaPe</th>\n",
       "      <th>Lag</th>\n",
       "      <th>Test</th>\n",
       "    </tr>\n",
       "  </thead>\n",
       "  <tbody>\n",
       "    <tr>\n",
       "      <th>0</th>\n",
       "      <td>[Close, High, Open, Low]</td>\n",
       "      <td>0</td>\n",
       "      <td>0.162934</td>\n",
       "      <td>3</td>\n",
       "      <td>28</td>\n",
       "    </tr>\n",
       "  </tbody>\n",
       "</table>\n",
       "</div>"
      ],
      "text/plain": [
       "                      Model  RMSE      MaPe  Lag  Test\n",
       "0  [Close, High, Open, Low]     0  0.162934    3    28"
      ]
     },
     "execution_count": 36,
     "metadata": {},
     "output_type": "execute_result"
    }
   ],
   "source": [
    "perf"
   ]
  },
  {
   "cell_type": "code",
   "execution_count": null,
   "id": "24e1b538-635e-44fd-8708-73737f10291e",
   "metadata": {},
   "outputs": [],
   "source": []
  }
 ],
 "metadata": {
  "kernelspec": {
   "display_name": "Python 3 (ipykernel)",
   "language": "python",
   "name": "python3"
  },
  "language_info": {
   "codemirror_mode": {
    "name": "ipython",
    "version": 3
   },
   "file_extension": ".py",
   "mimetype": "text/x-python",
   "name": "python",
   "nbconvert_exporter": "python",
   "pygments_lexer": "ipython3",
   "version": "3.11.7"
  }
 },
 "nbformat": 4,
 "nbformat_minor": 5
}

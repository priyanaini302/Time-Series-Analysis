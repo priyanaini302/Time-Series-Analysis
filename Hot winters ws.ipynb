{
 "cells": [
  {
   "cell_type": "code",
   "execution_count": 19,
   "id": "8764e8f8-1741-4122-bbd4-39e406acaee5",
   "metadata": {},
   "outputs": [],
   "source": [
    "import yfinance  as yf\n",
    "import datetime as dt\n",
    "import numpy as np\n",
    "import pandas as pd\n",
    "import matplotlib.pyplot as plt\n",
    "from statsmodels.tsa.holtwinters import ExponentialSmoothing"
   ]
  },
  {
   "cell_type": "code",
   "execution_count": 2,
   "id": "0d0ba791-d3aa-47c0-8318-b2118205b611",
   "metadata": {},
   "outputs": [],
   "source": [
    "start=dt.datetime(2022,7,1)\n",
    "end=dt.datetime(2023,7,28)\n",
    "symbol='SBIN.NS'"
   ]
  },
  {
   "cell_type": "code",
   "execution_count": 3,
   "id": "49bfe0de-70df-4914-915c-1d0c5b715776",
   "metadata": {},
   "outputs": [
    {
     "name": "stderr",
     "output_type": "stream",
     "text": [
      "[*********************100%%**********************]  1 of 1 completed\n"
     ]
    }
   ],
   "source": [
    "stk_data = yf.download(symbol, start=start, end=end)"
   ]
  },
  {
   "cell_type": "code",
   "execution_count": 4,
   "id": "07df0ee5-54c3-45e3-ae5a-469c8d79dc81",
   "metadata": {},
   "outputs": [],
   "source": [
    "stk_data=stk_data[['Open','High','Low','Close']]"
   ]
  },
  {
   "cell_type": "code",
   "execution_count": 5,
   "id": "0533ca6e-8683-48d0-b343-3f5ec11f4a8b",
   "metadata": {},
   "outputs": [
    {
     "data": {
      "text/html": [
       "<div>\n",
       "<style scoped>\n",
       "    .dataframe tbody tr th:only-of-type {\n",
       "        vertical-align: middle;\n",
       "    }\n",
       "\n",
       "    .dataframe tbody tr th {\n",
       "        vertical-align: top;\n",
       "    }\n",
       "\n",
       "    .dataframe thead th {\n",
       "        text-align: right;\n",
       "    }\n",
       "</style>\n",
       "<table border=\"1\" class=\"dataframe\">\n",
       "  <thead>\n",
       "    <tr style=\"text-align: right;\">\n",
       "      <th></th>\n",
       "      <th>Open</th>\n",
       "      <th>High</th>\n",
       "      <th>Low</th>\n",
       "      <th>Close</th>\n",
       "    </tr>\n",
       "    <tr>\n",
       "      <th>Date</th>\n",
       "      <th></th>\n",
       "      <th></th>\n",
       "      <th></th>\n",
       "      <th></th>\n",
       "    </tr>\n",
       "  </thead>\n",
       "  <tbody>\n",
       "    <tr>\n",
       "      <th>2022-07-01</th>\n",
       "      <td>463.350006</td>\n",
       "      <td>468.799988</td>\n",
       "      <td>460.549988</td>\n",
       "      <td>466.850006</td>\n",
       "    </tr>\n",
       "    <tr>\n",
       "      <th>2022-07-04</th>\n",
       "      <td>466.850006</td>\n",
       "      <td>474.149994</td>\n",
       "      <td>466.850006</td>\n",
       "      <td>473.450012</td>\n",
       "    </tr>\n",
       "    <tr>\n",
       "      <th>2022-07-05</th>\n",
       "      <td>475.149994</td>\n",
       "      <td>480.000000</td>\n",
       "      <td>471.000000</td>\n",
       "      <td>472.149994</td>\n",
       "    </tr>\n",
       "    <tr>\n",
       "      <th>2022-07-06</th>\n",
       "      <td>475.149994</td>\n",
       "      <td>481.000000</td>\n",
       "      <td>473.899994</td>\n",
       "      <td>479.950012</td>\n",
       "    </tr>\n",
       "    <tr>\n",
       "      <th>2022-07-07</th>\n",
       "      <td>484.000000</td>\n",
       "      <td>488.250000</td>\n",
       "      <td>481.600006</td>\n",
       "      <td>486.750000</td>\n",
       "    </tr>\n",
       "    <tr>\n",
       "      <th>...</th>\n",
       "      <td>...</td>\n",
       "      <td>...</td>\n",
       "      <td>...</td>\n",
       "      <td>...</td>\n",
       "    </tr>\n",
       "    <tr>\n",
       "      <th>2023-07-21</th>\n",
       "      <td>610.000000</td>\n",
       "      <td>619.500000</td>\n",
       "      <td>609.000000</td>\n",
       "      <td>615.099976</td>\n",
       "    </tr>\n",
       "    <tr>\n",
       "      <th>2023-07-24</th>\n",
       "      <td>615.049988</td>\n",
       "      <td>621.900024</td>\n",
       "      <td>614.299988</td>\n",
       "      <td>617.650024</td>\n",
       "    </tr>\n",
       "    <tr>\n",
       "      <th>2023-07-25</th>\n",
       "      <td>621.799988</td>\n",
       "      <td>621.799988</td>\n",
       "      <td>604.200012</td>\n",
       "      <td>609.599976</td>\n",
       "    </tr>\n",
       "    <tr>\n",
       "      <th>2023-07-26</th>\n",
       "      <td>612.000000</td>\n",
       "      <td>616.349976</td>\n",
       "      <td>609.150024</td>\n",
       "      <td>615.150024</td>\n",
       "    </tr>\n",
       "    <tr>\n",
       "      <th>2023-07-27</th>\n",
       "      <td>616.400024</td>\n",
       "      <td>621.250000</td>\n",
       "      <td>613.099976</td>\n",
       "      <td>616.549988</td>\n",
       "    </tr>\n",
       "  </tbody>\n",
       "</table>\n",
       "<p>266 rows × 4 columns</p>\n",
       "</div>"
      ],
      "text/plain": [
       "                  Open        High         Low       Close\n",
       "Date                                                      \n",
       "2022-07-01  463.350006  468.799988  460.549988  466.850006\n",
       "2022-07-04  466.850006  474.149994  466.850006  473.450012\n",
       "2022-07-05  475.149994  480.000000  471.000000  472.149994\n",
       "2022-07-06  475.149994  481.000000  473.899994  479.950012\n",
       "2022-07-07  484.000000  488.250000  481.600006  486.750000\n",
       "...                ...         ...         ...         ...\n",
       "2023-07-21  610.000000  619.500000  609.000000  615.099976\n",
       "2023-07-24  615.049988  621.900024  614.299988  617.650024\n",
       "2023-07-25  621.799988  621.799988  604.200012  609.599976\n",
       "2023-07-26  612.000000  616.349976  609.150024  615.150024\n",
       "2023-07-27  616.400024  621.250000  613.099976  616.549988\n",
       "\n",
       "[266 rows x 4 columns]"
      ]
     },
     "execution_count": 5,
     "metadata": {},
     "output_type": "execute_result"
    }
   ],
   "source": [
    "stk_data"
   ]
  },
  {
   "cell_type": "code",
   "execution_count": 6,
   "id": "cc770bd7-6674-4af0-9eba-d4cef0f26c3b",
   "metadata": {},
   "outputs": [],
   "source": [
    "column='Open'"
   ]
  },
  {
   "cell_type": "code",
   "execution_count": 7,
   "id": "b26373d9-c98d-4071-9b57-c78a365f8f3e",
   "metadata": {},
   "outputs": [],
   "source": [
    "series = stk_data['Open']"
   ]
  },
  {
   "cell_type": "code",
   "execution_count": 33,
   "id": "0d52f918-bd4a-44b2-ad19-689eb2215392",
   "metadata": {},
   "outputs": [
    {
     "name": "stderr",
     "output_type": "stream",
     "text": [
      "E:\\software installtalation paths\\anaconda\\envs\\time\\Lib\\site-packages\\statsmodels\\tsa\\base\\tsa_model.py:473: ValueWarning: A date index has been provided, but it has no associated frequency information and so will be ignored when e.g. forecasting.\n",
      "  self._init_dates(dates, freq)\n",
      "E:\\software installtalation paths\\anaconda\\envs\\time\\Lib\\site-packages\\statsmodels\\tsa\\base\\tsa_model.py:836: ValueWarning: No supported index is available. Prediction results will be given with an integer index beginning at `start`.\n",
      "  return get_prediction_index(\n",
      "E:\\software installtalation paths\\anaconda\\envs\\time\\Lib\\site-packages\\statsmodels\\tsa\\base\\tsa_model.py:836: FutureWarning: No supported index is available. In the next version, calling this method in a model without a supported index will result in an exception.\n",
      "  return get_prediction_index(\n"
     ]
    }
   ],
   "source": [
    "model = ExponentialSmoothing(series, trend='add', seasonal='add', seasonal_periods=5)\n",
    "fitted_model = model.fit()\n",
    "forecast = fitted_model.predict(start=len(series), end=len(series) + 4)  "
   ]
  },
  {
   "cell_type": "code",
   "execution_count": 34,
   "id": "782ec86f-af5f-4d8d-bdf8-465d21251dfe",
   "metadata": {},
   "outputs": [
    {
     "data": {
      "text/plain": [
       "266    617.922069\n",
       "267    617.988400\n",
       "268    618.787301\n",
       "269    620.045559\n",
       "270    619.218070\n",
       "dtype: float64"
      ]
     },
     "execution_count": 34,
     "metadata": {},
     "output_type": "execute_result"
    }
   ],
   "source": [
    "forecast"
   ]
  },
  {
   "cell_type": "code",
   "execution_count": 35,
   "id": "f70ddde5-c452-4164-8481-483d9e241f93",
   "metadata": {},
   "outputs": [
    {
     "name": "stdout",
     "output_type": "stream",
     "text": [
      "Mean Squared Error (MSE): 30.628426567730013\n"
     ]
    }
   ],
   "source": [
    "from sklearn.metrics import mean_squared_error\n",
    "actual_values = series[-5:]  # Assuming the last 10 points are the actual values\n",
    "\n",
    "mse = mean_squared_error(actual_values, forecast)\n",
    "print(\"Mean Squared Error (MSE):\", mse)"
   ]
  },
  {
   "cell_type": "code",
   "execution_count": null,
   "id": "250e7d25-3fb8-4ad0-8813-9ac8b2605682",
   "metadata": {},
   "outputs": [],
   "source": []
  },
  {
   "cell_type": "code",
   "execution_count": null,
   "id": "8b7436e1-c407-4506-a18a-2dc56d241cb2",
   "metadata": {},
   "outputs": [],
   "source": []
  }
 ],
 "metadata": {
  "kernelspec": {
   "display_name": "Python 3 (ipykernel)",
   "language": "python",
   "name": "python3"
  },
  "language_info": {
   "codemirror_mode": {
    "name": "ipython",
    "version": 3
   },
   "file_extension": ".py",
   "mimetype": "text/x-python",
   "name": "python",
   "nbconvert_exporter": "python",
   "pygments_lexer": "ipython3",
   "version": "3.11.7"
  }
 },
 "nbformat": 4,
 "nbformat_minor": 5
}
